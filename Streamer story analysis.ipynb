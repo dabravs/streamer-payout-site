{
 "cells": [
  {
   "cell_type": "code",
   "execution_count": 1,
   "id": "66aabd5a",
   "metadata": {},
   "outputs": [],
   "source": [
    "import pandas as pd\n",
    "from plotnine import *"
   ]
  },
  {
   "cell_type": "code",
   "execution_count": 2,
   "id": "230564b4",
   "metadata": {},
   "outputs": [
    {
     "data": {
      "text/html": [
       "<div>\n",
       "<style scoped>\n",
       "    .dataframe tbody tr th:only-of-type {\n",
       "        vertical-align: middle;\n",
       "    }\n",
       "\n",
       "    .dataframe tbody tr th {\n",
       "        vertical-align: top;\n",
       "    }\n",
       "\n",
       "    .dataframe thead th {\n",
       "        text-align: right;\n",
       "    }\n",
       "</style>\n",
       "<table border=\"1\" class=\"dataframe\">\n",
       "  <thead>\n",
       "    <tr style=\"text-align: right;\">\n",
       "      <th></th>\n",
       "      <th>Name</th>\n",
       "      <th>Payout</th>\n",
       "      <th>Gender</th>\n",
       "    </tr>\n",
       "  </thead>\n",
       "  <tbody>\n",
       "    <tr>\n",
       "      <th>0</th>\n",
       "      <td>Critical Role</td>\n",
       "      <td>9,626,712.16</td>\n",
       "      <td>Mixed</td>\n",
       "    </tr>\n",
       "    <tr>\n",
       "      <th>1</th>\n",
       "      <td>xQcOW</td>\n",
       "      <td>8,454,427.17</td>\n",
       "      <td>Male</td>\n",
       "    </tr>\n",
       "    <tr>\n",
       "      <th>2</th>\n",
       "      <td>summit1g</td>\n",
       "      <td>5,847,541.17</td>\n",
       "      <td>Male</td>\n",
       "    </tr>\n",
       "    <tr>\n",
       "      <th>3</th>\n",
       "      <td>Tfue</td>\n",
       "      <td>5,295,582.44</td>\n",
       "      <td>Male</td>\n",
       "    </tr>\n",
       "    <tr>\n",
       "      <th>4</th>\n",
       "      <td>NICKMERCS</td>\n",
       "      <td>5,096,642.12</td>\n",
       "      <td>Male</td>\n",
       "    </tr>\n",
       "  </tbody>\n",
       "</table>\n",
       "</div>"
      ],
      "text/plain": [
       "            Name        Payout Gender\n",
       "0  Critical Role  9,626,712.16  Mixed\n",
       "1          xQcOW  8,454,427.17   Male\n",
       "2       summit1g  5,847,541.17   Male\n",
       "3           Tfue  5,295,582.44   Male\n",
       "4      NICKMERCS  5,096,642.12   Male"
      ]
     },
     "execution_count": 2,
     "metadata": {},
     "output_type": "execute_result"
    }
   ],
   "source": [
    "df = pd.read_csv(\"TwitchStreamers.csv\")\n",
    "df.head()"
   ]
  },
  {
   "cell_type": "code",
   "execution_count": 3,
   "id": "125fccad",
   "metadata": {},
   "outputs": [
    {
     "data": {
      "text/plain": [
       "Gender\n",
       "Male      37\n",
       "Mixed      2\n",
       "Female     1\n",
       "dtype: int64"
      ]
     },
     "execution_count": 3,
     "metadata": {},
     "output_type": "execute_result"
    }
   ],
   "source": [
    "df.value_counts(\"Gender\")"
   ]
  },
  {
   "cell_type": "code",
   "execution_count": 4,
   "id": "d2c53d03",
   "metadata": {},
   "outputs": [],
   "source": [
    "import altair as alt"
   ]
  },
  {
   "cell_type": "code",
   "execution_count": 5,
   "id": "318ee2bc",
   "metadata": {},
   "outputs": [
    {
     "data": {
      "text/html": [
       "\n",
       "<div id=\"altair-viz-3ff7a86566f04426bb79e0f3d56e6b0a\"></div>\n",
       "<script type=\"text/javascript\">\n",
       "  var VEGA_DEBUG = (typeof VEGA_DEBUG == \"undefined\") ? {} : VEGA_DEBUG;\n",
       "  (function(spec, embedOpt){\n",
       "    let outputDiv = document.currentScript.previousElementSibling;\n",
       "    if (outputDiv.id !== \"altair-viz-3ff7a86566f04426bb79e0f3d56e6b0a\") {\n",
       "      outputDiv = document.getElementById(\"altair-viz-3ff7a86566f04426bb79e0f3d56e6b0a\");\n",
       "    }\n",
       "    const paths = {\n",
       "      \"vega\": \"https://cdn.jsdelivr.net/npm//vega@5?noext\",\n",
       "      \"vega-lib\": \"https://cdn.jsdelivr.net/npm//vega-lib?noext\",\n",
       "      \"vega-lite\": \"https://cdn.jsdelivr.net/npm//vega-lite@4.17.0?noext\",\n",
       "      \"vega-embed\": \"https://cdn.jsdelivr.net/npm//vega-embed@6?noext\",\n",
       "    };\n",
       "\n",
       "    function maybeLoadScript(lib, version) {\n",
       "      var key = `${lib.replace(\"-\", \"\")}_version`;\n",
       "      return (VEGA_DEBUG[key] == version) ?\n",
       "        Promise.resolve(paths[lib]) :\n",
       "        new Promise(function(resolve, reject) {\n",
       "          var s = document.createElement('script');\n",
       "          document.getElementsByTagName(\"head\")[0].appendChild(s);\n",
       "          s.async = true;\n",
       "          s.onload = () => {\n",
       "            VEGA_DEBUG[key] = version;\n",
       "            return resolve(paths[lib]);\n",
       "          };\n",
       "          s.onerror = () => reject(`Error loading script: ${paths[lib]}`);\n",
       "          s.src = paths[lib];\n",
       "        });\n",
       "    }\n",
       "\n",
       "    function showError(err) {\n",
       "      outputDiv.innerHTML = `<div class=\"error\" style=\"color:red;\">${err}</div>`;\n",
       "      throw err;\n",
       "    }\n",
       "\n",
       "    function displayChart(vegaEmbed) {\n",
       "      vegaEmbed(outputDiv, spec, embedOpt)\n",
       "        .catch(err => showError(`Javascript Error: ${err.message}<br>This usually means there's a typo in your chart specification. See the javascript console for the full traceback.`));\n",
       "    }\n",
       "\n",
       "    if(typeof define === \"function\" && define.amd) {\n",
       "      requirejs.config({paths});\n",
       "      require([\"vega-embed\"], displayChart, err => showError(`Error loading script: ${err.message}`));\n",
       "    } else {\n",
       "      maybeLoadScript(\"vega\", \"5\")\n",
       "        .then(() => maybeLoadScript(\"vega-lite\", \"4.17.0\"))\n",
       "        .then(() => maybeLoadScript(\"vega-embed\", \"6\"))\n",
       "        .catch(showError)\n",
       "        .then(() => displayChart(vegaEmbed));\n",
       "    }\n",
       "  })({\"config\": {\"view\": {\"continuousWidth\": 400, \"continuousHeight\": 300}}, \"data\": {\"name\": \"data-3f944c5679e1ed34f8a139246107b798\"}, \"mark\": \"bar\", \"encoding\": {\"color\": {\"field\": \"Gender\", \"type\": \"nominal\"}, \"x\": {\"field\": \"Name\", \"type\": \"nominal\"}, \"y\": {\"field\": \"Payout\", \"type\": \"nominal\"}}, \"$schema\": \"https://vega.github.io/schema/vega-lite/v4.17.0.json\", \"datasets\": {\"data-3f944c5679e1ed34f8a139246107b798\": [{\"Name\": \"Critical Role\", \"Payout\": \"9,626,712.16\", \"Gender\": \"Mixed\"}, {\"Name\": \"xQcOW\", \"Payout\": \"8,454,427.17\", \"Gender\": \"Male\"}, {\"Name\": \"summit1g\", \"Payout\": \"5,847,541.17\", \"Gender\": \"Male\"}, {\"Name\": \"Tfue\", \"Payout\": \"5,295,582.44\", \"Gender\": \"Male\"}, {\"Name\": \"NICKMERCS\", \"Payout\": \"5,096,642.12\", \"Gender\": \"Male\"}, {\"Name\": \"ludwig\", \"Payout\": \"3,290,777.55\", \"Gender\": \"Male\"}, {\"Name\": \"TimTheTatman\", \"Payout\": \"3,290,133.32\", \"Gender\": \"Male\"}, {\"Name\": \"Altoar\", \"Payout\": \"3,053,839.94\", \"Gender\": \"Male\"}, {\"Name\": \"auronplay\", \"Payout\": \"3,053,341.54\", \"Gender\": \"Male\"}, {\"Name\": \"LIRIK\", \"Payout\": \"2,984,653.7\", \"Gender\": \"Male\"}, {\"Name\": \"DrDisrespect\", \"Payout\": \"2,863,780.63\", \"Gender\": \"Male\"}, {\"Name\": \"Gaules\", \"Payout\": \"2,844,985.18\", \"Gender\": \"Male\"}, {\"Name\": \"HasanAbi\", \"Payout\": \"2,810,480.11\", \"Gender\": \"Male\"}, {\"Name\": \"Asmongold\", \"Payout\": \"2,551,618.73\", \"Gender\": \"Male\"}, {\"Name\": \"loltyler1\", \"Payout\": \"2,490,584.9\", \"Gender\": \"Male\"}, {\"Name\": \"RanbooLive\", \"Payout\": \"2,401,021.84\", \"Gender\": \"Male\"}, {\"Name\": \"MontanaBlack88\", \"Payout\": \"2,391,369.58\", \"Gender\": \"Male\"}, {\"Name\": \"ibai\", \"Payout\": \"2,314,485.53\", \"Gender\": \"Male\"}, {\"Name\": \"Castro_1021\", \"Payout\": \"2,311,021.81\", \"Gender\": \"Male\"}, {\"Name\": \"MOONMOON\", \"Payout\": \"2,236,043.55\", \"Gender\": \"Male\"}, {\"Name\": \"TheRealKnossi\", \"Payout\": \"2,157,258.23\", \"Gender\": \"Male\"}, {\"Name\": \"moistcr1tikal\", \"Payout\": \"2,098,742.63\", \"Gender\": \"Male\"}, {\"Name\": \"Mizkif\", \"Payout\": \"2,086,548.21\", \"Gender\": \"Male\"}, {\"Name\": \"CohhCarnage\", \"Payout\": \"2,601,059.29\", \"Gender\": \"Male\"}, {\"Name\": \"Shroud\", \"Payout\": \"2,040,503.15\", \"Gender\": \"Male\"}, {\"Name\": \"AdmiralBahroo\", \"Payout\": \"1,985,892.39\", \"Gender\": \"Male\"}, {\"Name\": \"Pestily\", \"Payout\": \"1,961,086.96\", \"Gender\": \"Male\"}, {\"Name\": \"Sykkuno\", \"Payout\": \"1,916,327.43\", \"Gender\": \"Male\"}, {\"Name\": \"ESL_CSGO\", \"Payout\": \"1,903,580.27\", \"Gender\": \"Mixed\"}, {\"Name\": \"LVNDMARK\", \"Payout\": \"1,902,807.22\", \"Gender\": \"Male\"}, {\"Name\": \"DrLupo\", \"Payout\": \"1,894,615.81\", \"Gender\": \"Male\"}, {\"Name\": \"AdinRoss\", \"Payout\": \"1,854,656.42\", \"Gender\": \"Male\"}, {\"Name\": \"Clix\", \"Payout\": \"1,843,917.31\", \"Gender\": \"Male\"}, {\"Name\": \"TeePee\", \"Payout\": \"1,786,534.47\", \"Gender\": \"Male\"}, {\"Name\": \"Rubius\", \"Payout\": \"1,764,965.15\", \"Gender\": \"Male\"}, {\"Name\": \"PaymoneyWubby\", \"Payout\": \"1,756,486.29\", \"Gender\": \"Male\"}, {\"Name\": \"alanzoka\", \"Payout\": \"1,731,716.65\", \"Gender\": \"Male\"}, {\"Name\": \"Trainwreckstv\", \"Payout\": \"1,572,912.37\", \"Gender\": \"Male\"}, {\"Name\": \"pokimane\", \"Payout\": \"1,528,303.11\", \"Gender\": \"Female\"}, {\"Name\": \"tommyinnit\", \"Payout\": \"1,513,217.7\", \"Gender\": \"Male\"}]}}, {\"mode\": \"vega-lite\"});\n",
       "</script>"
      ],
      "text/plain": [
       "alt.Chart(...)"
      ]
     },
     "execution_count": 5,
     "metadata": {},
     "output_type": "execute_result"
    }
   ],
   "source": [
    "alt.Chart(df).mark_bar().encode(x='Name', y= 'Payout', color= 'Gender')"
   ]
  },
  {
   "cell_type": "code",
   "execution_count": 6,
   "id": "5ddc81d4",
   "metadata": {},
   "outputs": [
    {
     "data": {
      "text/plain": [
       "Gender\n",
       "Male      37\n",
       "Mixed      2\n",
       "Female     1\n",
       "dtype: int64"
      ]
     },
     "execution_count": 6,
     "metadata": {},
     "output_type": "execute_result"
    }
   ],
   "source": [
    "gender_values = df.value_counts('Gender')\n",
    "gender_values"
   ]
  },
  {
   "cell_type": "code",
   "execution_count": 20,
   "id": "081fc056",
   "metadata": {},
   "outputs": [
    {
     "data": {
      "text/html": [
       "\n",
       "<div id=\"altair-viz-6a00ce4a908c4103800d981cfcf7de6b\"></div>\n",
       "<script type=\"text/javascript\">\n",
       "  var VEGA_DEBUG = (typeof VEGA_DEBUG == \"undefined\") ? {} : VEGA_DEBUG;\n",
       "  (function(spec, embedOpt){\n",
       "    let outputDiv = document.currentScript.previousElementSibling;\n",
       "    if (outputDiv.id !== \"altair-viz-6a00ce4a908c4103800d981cfcf7de6b\") {\n",
       "      outputDiv = document.getElementById(\"altair-viz-6a00ce4a908c4103800d981cfcf7de6b\");\n",
       "    }\n",
       "    const paths = {\n",
       "      \"vega\": \"https://cdn.jsdelivr.net/npm//vega@5?noext\",\n",
       "      \"vega-lib\": \"https://cdn.jsdelivr.net/npm//vega-lib?noext\",\n",
       "      \"vega-lite\": \"https://cdn.jsdelivr.net/npm//vega-lite@4.17.0?noext\",\n",
       "      \"vega-embed\": \"https://cdn.jsdelivr.net/npm//vega-embed@6?noext\",\n",
       "    };\n",
       "\n",
       "    function maybeLoadScript(lib, version) {\n",
       "      var key = `${lib.replace(\"-\", \"\")}_version`;\n",
       "      return (VEGA_DEBUG[key] == version) ?\n",
       "        Promise.resolve(paths[lib]) :\n",
       "        new Promise(function(resolve, reject) {\n",
       "          var s = document.createElement('script');\n",
       "          document.getElementsByTagName(\"head\")[0].appendChild(s);\n",
       "          s.async = true;\n",
       "          s.onload = () => {\n",
       "            VEGA_DEBUG[key] = version;\n",
       "            return resolve(paths[lib]);\n",
       "          };\n",
       "          s.onerror = () => reject(`Error loading script: ${paths[lib]}`);\n",
       "          s.src = paths[lib];\n",
       "        });\n",
       "    }\n",
       "\n",
       "    function showError(err) {\n",
       "      outputDiv.innerHTML = `<div class=\"error\" style=\"color:red;\">${err}</div>`;\n",
       "      throw err;\n",
       "    }\n",
       "\n",
       "    function displayChart(vegaEmbed) {\n",
       "      vegaEmbed(outputDiv, spec, embedOpt)\n",
       "        .catch(err => showError(`Javascript Error: ${err.message}<br>This usually means there's a typo in your chart specification. See the javascript console for the full traceback.`));\n",
       "    }\n",
       "\n",
       "    if(typeof define === \"function\" && define.amd) {\n",
       "      requirejs.config({paths});\n",
       "      require([\"vega-embed\"], displayChart, err => showError(`Error loading script: ${err.message}`));\n",
       "    } else {\n",
       "      maybeLoadScript(\"vega\", \"5\")\n",
       "        .then(() => maybeLoadScript(\"vega-lite\", \"4.17.0\"))\n",
       "        .then(() => maybeLoadScript(\"vega-embed\", \"6\"))\n",
       "        .catch(showError)\n",
       "        .then(() => displayChart(vegaEmbed));\n",
       "    }\n",
       "  })({\"config\": {\"view\": {\"continuousWidth\": 400, \"continuousHeight\": 300}}, \"data\": {\"name\": \"data-3f944c5679e1ed34f8a139246107b798\"}, \"mark\": \"bar\", \"encoding\": {\"color\": {\"field\": \"Gender\", \"scale\": {\"scheme\": \"Set1\"}, \"type\": \"nominal\"}, \"x\": {\"field\": \"Payout\", \"type\": \"nominal\"}, \"y\": {\"field\": \"Name\", \"sort\": \"-x\", \"type\": \"nominal\"}}, \"title\": \"Gender and Payout Among Top 40 Streamers\", \"$schema\": \"https://vega.github.io/schema/vega-lite/v4.17.0.json\", \"datasets\": {\"data-3f944c5679e1ed34f8a139246107b798\": [{\"Name\": \"Critical Role\", \"Payout\": \"9,626,712.16\", \"Gender\": \"Mixed\"}, {\"Name\": \"xQcOW\", \"Payout\": \"8,454,427.17\", \"Gender\": \"Male\"}, {\"Name\": \"summit1g\", \"Payout\": \"5,847,541.17\", \"Gender\": \"Male\"}, {\"Name\": \"Tfue\", \"Payout\": \"5,295,582.44\", \"Gender\": \"Male\"}, {\"Name\": \"NICKMERCS\", \"Payout\": \"5,096,642.12\", \"Gender\": \"Male\"}, {\"Name\": \"ludwig\", \"Payout\": \"3,290,777.55\", \"Gender\": \"Male\"}, {\"Name\": \"TimTheTatman\", \"Payout\": \"3,290,133.32\", \"Gender\": \"Male\"}, {\"Name\": \"Altoar\", \"Payout\": \"3,053,839.94\", \"Gender\": \"Male\"}, {\"Name\": \"auronplay\", \"Payout\": \"3,053,341.54\", \"Gender\": \"Male\"}, {\"Name\": \"LIRIK\", \"Payout\": \"2,984,653.7\", \"Gender\": \"Male\"}, {\"Name\": \"DrDisrespect\", \"Payout\": \"2,863,780.63\", \"Gender\": \"Male\"}, {\"Name\": \"Gaules\", \"Payout\": \"2,844,985.18\", \"Gender\": \"Male\"}, {\"Name\": \"HasanAbi\", \"Payout\": \"2,810,480.11\", \"Gender\": \"Male\"}, {\"Name\": \"Asmongold\", \"Payout\": \"2,551,618.73\", \"Gender\": \"Male\"}, {\"Name\": \"loltyler1\", \"Payout\": \"2,490,584.9\", \"Gender\": \"Male\"}, {\"Name\": \"RanbooLive\", \"Payout\": \"2,401,021.84\", \"Gender\": \"Male\"}, {\"Name\": \"MontanaBlack88\", \"Payout\": \"2,391,369.58\", \"Gender\": \"Male\"}, {\"Name\": \"ibai\", \"Payout\": \"2,314,485.53\", \"Gender\": \"Male\"}, {\"Name\": \"Castro_1021\", \"Payout\": \"2,311,021.81\", \"Gender\": \"Male\"}, {\"Name\": \"MOONMOON\", \"Payout\": \"2,236,043.55\", \"Gender\": \"Male\"}, {\"Name\": \"TheRealKnossi\", \"Payout\": \"2,157,258.23\", \"Gender\": \"Male\"}, {\"Name\": \"moistcr1tikal\", \"Payout\": \"2,098,742.63\", \"Gender\": \"Male\"}, {\"Name\": \"Mizkif\", \"Payout\": \"2,086,548.21\", \"Gender\": \"Male\"}, {\"Name\": \"CohhCarnage\", \"Payout\": \"2,601,059.29\", \"Gender\": \"Male\"}, {\"Name\": \"Shroud\", \"Payout\": \"2,040,503.15\", \"Gender\": \"Male\"}, {\"Name\": \"AdmiralBahroo\", \"Payout\": \"1,985,892.39\", \"Gender\": \"Male\"}, {\"Name\": \"Pestily\", \"Payout\": \"1,961,086.96\", \"Gender\": \"Male\"}, {\"Name\": \"Sykkuno\", \"Payout\": \"1,916,327.43\", \"Gender\": \"Male\"}, {\"Name\": \"ESL_CSGO\", \"Payout\": \"1,903,580.27\", \"Gender\": \"Mixed\"}, {\"Name\": \"LVNDMARK\", \"Payout\": \"1,902,807.22\", \"Gender\": \"Male\"}, {\"Name\": \"DrLupo\", \"Payout\": \"1,894,615.81\", \"Gender\": \"Male\"}, {\"Name\": \"AdinRoss\", \"Payout\": \"1,854,656.42\", \"Gender\": \"Male\"}, {\"Name\": \"Clix\", \"Payout\": \"1,843,917.31\", \"Gender\": \"Male\"}, {\"Name\": \"TeePee\", \"Payout\": \"1,786,534.47\", \"Gender\": \"Male\"}, {\"Name\": \"Rubius\", \"Payout\": \"1,764,965.15\", \"Gender\": \"Male\"}, {\"Name\": \"PaymoneyWubby\", \"Payout\": \"1,756,486.29\", \"Gender\": \"Male\"}, {\"Name\": \"alanzoka\", \"Payout\": \"1,731,716.65\", \"Gender\": \"Male\"}, {\"Name\": \"Trainwreckstv\", \"Payout\": \"1,572,912.37\", \"Gender\": \"Male\"}, {\"Name\": \"pokimane\", \"Payout\": \"1,528,303.11\", \"Gender\": \"Female\"}, {\"Name\": \"tommyinnit\", \"Payout\": \"1,513,217.7\", \"Gender\": \"Male\"}]}}, {\"mode\": \"vega-lite\"});\n",
       "</script>"
      ],
      "text/plain": [
       "alt.Chart(...)"
      ]
     },
     "execution_count": 20,
     "metadata": {},
     "output_type": "execute_result"
    }
   ],
   "source": [
    "alt.Chart(\n",
    "    df,\n",
    "    title='Gender and Payout Among Top 40 Streamers'\n",
    ").mark_bar().encode(\n",
    "    x='Payout',\n",
    "    y=alt.X('Name', sort='-x'),\n",
    "    color=alt.Color('Gender', scale=alt.Scale(scheme='Set1'))\n",
    ")"
   ]
  },
  {
   "cell_type": "code",
   "execution_count": null,
   "id": "b75b9834",
   "metadata": {},
   "outputs": [],
   "source": []
  },
  {
   "cell_type": "code",
   "execution_count": null,
   "id": "be2c52d2",
   "metadata": {},
   "outputs": [],
   "source": []
  }
 ],
 "metadata": {
  "kernelspec": {
   "display_name": "Python 3 (ipykernel)",
   "language": "python",
   "name": "python3"
  },
  "language_info": {
   "codemirror_mode": {
    "name": "ipython",
    "version": 3
   },
   "file_extension": ".py",
   "mimetype": "text/x-python",
   "name": "python",
   "nbconvert_exporter": "python",
   "pygments_lexer": "ipython3",
   "version": "3.10.3"
  }
 },
 "nbformat": 4,
 "nbformat_minor": 5
}
